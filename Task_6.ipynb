{
 "cells": [
  {
   "cell_type": "markdown",
   "metadata": {},
   "source": [
    "## Данные\n",
    "\n",
    "Данные в [архиве](https://drive.google.com/file/d/15o7fdxTgndoy6K-e7g8g1M2-bOOwqZPl/view?usp=sharing). В нём два файла:\n",
    "- `news_train.txt` тренировочное множество\n",
    "- `news_test.txt` тренировочное множество\n",
    "\n",
    "С некоторых новостных сайтов были загружены тексты новостей за период  несколько лет, причем каждая новость принаделжит к какой-то рубрике: `science`, `style`, `culture`, `life`, `economics`, `business`, `travel`, `forces`, `media`, `sport`.\n",
    "\n",
    "В каждой строке файла содержится метка рубрики, заголовок новостной статьи и сам текст статьи, например:\n",
    "\n",
    ">    **sport**&nbsp;&lt;tab&gt;&nbsp;**Сборная Канады по хоккею разгромила чехов**&nbsp;&lt;tab&gt;&nbsp;**Сборная Канады по хоккею крупно об...**"
   ]
  },
  {
   "cell_type": "markdown",
   "metadata": {},
   "source": [
    "# Задача\n",
    "\n",
    "1. Обработать данные, получив для каждого текста набор токенов\n",
    "Обработать токены с помощью (один вариант из трех):\n",
    "    - pymorphy2\n",
    "    - русского [snowball стеммера](https://www.nltk.org/howto/stem.html)\n",
    "    - [SentencePiece](https://github.com/google/sentencepiece) или [Huggingface Tokenizers](https://github.com/huggingface/tokenizers)\n",
    "    \n",
    "    \n",
    "2. Обучить word embeddings (fastText, word2vec, gloVe) на тренировочных данных. Можно использовать [gensim](https://radimrehurek.com/gensim/models/word2vec.html) . Продемонстрировать семантические ассоциации. \n",
    "\n",
    "3. Реализовать алгоритм классификации, посчитать точноть на тестовых данных, подобрать гиперпараметры. Метод векторизации выбрать произвольно - можно использовать $tf-idf$ с понижением размерности (см. scikit-learn), можно использовать обученные на предыдущем шаге векторные представления, можно использовать [предобученные модели](https://rusvectores.org/ru/models/). Имейте ввиду, что простое \"усреднение\" токенов в тексте скорее всего не даст положительных результатов. Нужно реализовать два алгоритмов из трех:\n",
    "     - SVM\n",
    "     - наивный байесовский классификатор\n",
    "     - логистическая регрессия\n",
    "    \n",
    "\n",
    "4.* Реализуйте классификацию с помощью нейросетевых моделей. Например [RuBERT](http://docs.deeppavlov.ai/en/master/features/models/bert.html) или [ELMo](https://rusvectores.org/ru/models/)."
   ]
  },
  {
   "cell_type": "markdown",
   "metadata": {},
   "source": [
    "lines = list(open('./news_train.txt', 'r', encoding='utf-8'))"
   ]
  },
  {
   "cell_type": "code",
   "execution_count": 14,
   "metadata": {},
   "outputs": [],
   "source": [
    "import random\n",
    "random.shuffle(lines)"
   ]
  },
  {
   "cell_type": "code",
   "execution_count": 18,
   "metadata": {},
   "outputs": [],
   "source": [
    "with open('./news_test.txt', 'w', encoding='utf-8') as f:\n",
    "    for line in lines[15000:18000]:\n",
    "        f.write(line)"
   ]
  },
  {
   "cell_type": "code",
   "execution_count": 16,
   "metadata": {},
   "outputs": [
    {
     "data": {
      "text/plain": [
       "Counter({'sport': 2215,\n",
       "         'culture': 2053,\n",
       "         'science': 2156,\n",
       "         'media': 2111,\n",
       "         'economics': 2080,\n",
       "         'life': 2033,\n",
       "         'forces': 1225,\n",
       "         'travel': 289,\n",
       "         'style': 284,\n",
       "         'business': 554})"
      ]
     },
     "execution_count": 16,
     "metadata": {},
     "output_type": "execute_result"
    }
   ],
   "source": [
    "from collections import Counter\n",
    "\n",
    "Counter([line.split('\\t')[0] for line in lines[:15000]])"
   ]
  },
  {
   "cell_type": "code",
   "execution_count": null,
   "metadata": {},
   "outputs": [],
   "source": [
    "'https://drive.google.com/file/d/1mG3tPS_59pANrgwd6T2IgnHWgph4vYbg/view?usp=sharing'"
   ]
  },
  {
   "cell_type": "code",
   "execution_count": 7,
   "metadata": {},
   "outputs": [],
   "source": [
    "with open(\"./data/news_train.txt\") as f:\n",
    "    lines = f.readlines()"
   ]
  },
  {
   "cell_type": "code",
   "execution_count": 12,
   "metadata": {},
   "outputs": [],
   "source": [
    "import pymorphy2\n",
    "\n",
    "morph = pymorphy2.MorphAnalyzer()\n",
    "\n",
    "def text_cleaner(text):\n",
    "    # к нижнему регистру\n",
    "    text = text.lower()\n",
    "    \n",
    "    # оставляем в предложении только русские буквы\n",
    "    alph = 'абвгдеёжзийклмнопрстуфхцчшщъыьэюя'\n",
    "    \n",
    "    cleaned_text = ''\n",
    "    for char in text:\n",
    "        if (char.isalpha() and char[0] in alph) or (char == ' '):\n",
    "            cleaned_text += char\n",
    "        \n",
    "    result = []\n",
    "    for word in cleaned_text.split():\n",
    "        # лемматизируем\n",
    "        result.append(morph.parse(word)[0].normal_form)\n",
    "                              \n",
    "    return ' '.join(result)"
   ]
  },
  {
   "cell_type": "code",
   "execution_count": 16,
   "metadata": {},
   "outputs": [],
   "source": [
    "extr = lambda x: [line.split('\\t')[x] for line in lines]\n",
    "\n",
    "with open('./data/cleaned_news_train.txt', 'w+') as f:\n",
    "    for (tg, ttl, txt) in zip(extr(0), extr(1), extr(2)):\n",
    "        s = tg + '\\t' + text_cleaner(ttl) + '\\t' + text_cleaner(txt) + '\\n'\n",
    "        f.write(s)"
   ]
  },
  {
   "cell_type": "code",
   "execution_count": 27,
   "metadata": {},
   "outputs": [
    {
     "name": "stdout",
     "output_type": "stream",
     "text": [
      "sport\tовечкин пожертвовать детский хоккейный школа автомобиль\tнападать вашингтон кэпиталзти александр овечкин передать детский хоккейный школа автомобиль получить они после окончание матч весь звезда национальный хоккейный лига нхл о это сообщаться на официальный сайт лигиавтомобиль быть подарить хоккеист по решение спонсор мероприятие игрок нхл пожертвовать машина спортивный школа который расположить в штат вирджинияовечкин общаться с летний девочка анна чтоб с синдром даун который заниматься в этот школа и являться поклонница спортсмен в сентябрь форвард пообедать вместе с юный хоккеистка в японский ресторанематч весь звезда нхл в коламбус штат огайо завершиться победа команда джонатан тэйвз над команда ник фолиньо с счёт овечкин выступать за проиграть коллектив россиянин отметиться три результативный передача\n",
      "\n"
     ]
    }
   ],
   "source": [
    "with open(\"./data/cleaned_news_train.txt\") as f:\n",
    "    train_lines = f.readlines()\n",
    "    \n",
    "print(train_lines[0])"
   ]
  },
  {
   "cell_type": "code",
   "execution_count": 24,
   "metadata": {},
   "outputs": [],
   "source": [
    "with open(\"./data/news_test.txt\") as f:\n",
    "    lines = f.readlines()"
   ]
  },
  {
   "cell_type": "code",
   "execution_count": 25,
   "metadata": {},
   "outputs": [],
   "source": [
    "extr = lambda x: [line.split('\\t')[x] for line in lines]\n",
    "\n",
    "with open('./data/cleaned_news_test.txt', 'w+') as f:\n",
    "    for (tg, ttl, txt) in zip(extr(0), extr(1), extr(2)):\n",
    "        s = tg + '\\t' + text_cleaner(ttl) + '\\t' + text_cleaner(txt) + '\\n'\n",
    "        f.write(s)"
   ]
  },
  {
   "cell_type": "code",
   "execution_count": 28,
   "metadata": {},
   "outputs": [
    {
     "name": "stdout",
     "output_type": "stream",
     "text": [
      "culture\tжительница ямал победить в первый песенный конкурс новый звезда\tжительница ямалоненецкий автономный округ елена лаптандер победить в первый всероссийский песенный конкурс новый звезда сообщить лентер организатор событие в качество награда она достаться статуэтка в форма звезда и денежный приз один миллион рубль по слово финалистка вознаграждение она планировать передать в благотворительный фонд подарить жизньтереть дополнительный приз достаться руслана ивакин из хакасия фолкгруппа ярил зной из воронежский область и александр куулар из тыва призёр с помощь смсголосование выбирать зритель телеканал звезда который транслировать конкурс весь на финальный галаконцерт выступить участниковведущий шоу стать актёр сергей безруков и аврора на концерт прозвучать популярный песня военный год журавль довоенный вальс мой милый если б не быть война цветок на дорога война песня десантноштурмовый батальон из кинофильм белорусский вокзал и другиена это конкурс произойти прорыв наступление фольклор настоящий этник отметить композитор максим дунаевский тоже принять участие в галаконцертевсероссийский конкурс исполнитель песня новый звезда проходить при поддержка министерство оборона россия он идея принадлежать глава ведомство сергей шойгу благодаря этот проект мы услышать не тот синтетик который сейчас поголовно петь молодёжь а хороший голос и настоящий музыка надеяться зритель по достоинство оценить тот певец который быть для страна новый звезда прокомментировать шойгу мероприятие планироваться проводить ежегодно\n",
      "\n"
     ]
    }
   ],
   "source": [
    "with open(\"./data/cleaned_news_test.txt\") as f:\n",
    "    test_lines = f.readlines()\n",
    "    \n",
    "print(test_lines[0])"
   ]
  },
  {
   "cell_type": "code",
   "execution_count": 29,
   "metadata": {},
   "outputs": [
    {
     "data": {
      "image/png": "[encoded data removed]",
      "text/plain": [
       "<Figure size 432x288 with 1 Axes>"
      ]
     },
     "metadata": {
      "needs_background": "light"
     },
     "output_type": "display_data"
    }
   ],
   "source": [
    "#посмотрим на распределение длин тайтлов\n",
    "from collections import Counter\n",
    "\n",
    "extr = lambda x: [line.split('\\t')[x] for line in train_lines]\n",
    "\n",
    "title_lens = [len(text.split(' ')) for text in extr(1)]\n",
    "text_lens = [len(text.split(' ')) for text in extr(2)]\n",
    "\n",
    "title_len_counter = Counter(title_lens)\n",
    "text_len_counter = Counter(text_lens)\n",
    "\n",
    "from matplotlib import pyplot as plt\n",
    "%matplotlib inline\n",
    "plt.bar(title_len_counter.keys(), title_len_counter.values(), )\n",
    "plt.xlim(0, 15);"
   ]
  },
  {
   "cell_type": "code",
   "execution_count": 31,
   "metadata": {},
   "outputs": [
    {
     "data": {
      "image/png": "[encoded data removed]",
      "text/plain": [
       "<Figure size 432x288 with 1 Axes>"
      ]
     },
     "metadata": {
      "needs_background": "light"
     },
     "output_type": "display_data"
    }
   ],
   "source": [
    "#посмотрим на распределение длин текстов\n",
    "\n",
    "from matplotlib import pyplot as plt\n",
    "%matplotlib inline\n",
    "plt.bar(text_len_counter.keys(), text_len_counter.values(), )\n",
    "plt.xlim(0, 400);"
   ]
  },
  {
   "cell_type": "code",
   "execution_count": 72,
   "metadata": {},
   "outputs": [
    {
     "name": "stderr",
     "output_type": "stream",
     "text": [
      "[nltk_data] Downloading package stopwords to\n",
      "[nltk_data]     /home/vchigur/nltk_data...\n",
      "[nltk_data]   Package stopwords is already up-to-date!\n"
     ]
    }
   ],
   "source": [
    "from sklearn.feature_extraction.text import CountVectorizer\n",
    "from sklearn.feature_extraction.text import TfidfVectorizer\n",
    "import nltk\n",
    "nltk.download(\"stopwords\")\n",
    "from nltk.corpus import stopwords\n",
    "\n",
    "ru_stop_words = stopwords.words('russian')\n",
    "\n",
    "from sklearn.model_selection import GridSearchCV\n",
    "from sklearn.model_selection import cross_val_score\n",
    "\n",
    "from sklearn.naive_bayes import MultinomialNB\n",
    "from sklearn.linear_model import SGDClassifier\n",
    "\n",
    "import pandas as pd"
   ]
  },
  {
   "cell_type": "code",
   "execution_count": 59,
   "metadata": {
    "scrolled": true
   },
   "outputs": [
    {
     "data": {
      "text/html": [
       "<div>\n",
       "<style scoped>\n",
       "    .dataframe tbody tr th:only-of-type {\n",
       "        vertical-align: middle;\n",
       "    }\n",
       "\n",
       "    .dataframe tbody tr th {\n",
       "        vertical-align: top;\n",
       "    }\n",
       "\n",
       "    .dataframe thead th {\n",
       "        text-align: right;\n",
       "    }\n",
       "</style>\n",
       "<table border=\"1\" class=\"dataframe\">\n",
       "  <thead>\n",
       "    <tr style=\"text-align: right;\">\n",
       "      <th></th>\n",
       "      <th>labels</th>\n",
       "      <th>texts</th>\n",
       "    </tr>\n",
       "  </thead>\n",
       "  <tbody>\n",
       "    <tr>\n",
       "      <td>0</td>\n",
       "      <td>sport</td>\n",
       "      <td>овечкин пожертвовать детский хоккейный школа а...</td>\n",
       "    </tr>\n",
       "    <tr>\n",
       "      <td>1</td>\n",
       "      <td>culture</td>\n",
       "      <td>рекордно дорогой статуя майя признать подделка...</td>\n",
       "    </tr>\n",
       "    <tr>\n",
       "      <td>2</td>\n",
       "      <td>science</td>\n",
       "      <td>представить флагман в защитить корпус южнокоре...</td>\n",
       "    </tr>\n",
       "    <tr>\n",
       "      <td>3</td>\n",
       "      <td>sport</td>\n",
       "      <td>с футболист спартак снять четырехматчевой диск...</td>\n",
       "    </tr>\n",
       "    <tr>\n",
       "      <td>4</td>\n",
       "      <td>media</td>\n",
       "      <td>объединиться с интернетиздание объявить о свой...</td>\n",
       "    </tr>\n",
       "  </tbody>\n",
       "</table>\n",
       "</div>"
      ],
      "text/plain": [
       "    labels                                              texts\n",
       "0    sport  овечкин пожертвовать детский хоккейный школа а...\n",
       "1  culture  рекордно дорогой статуя майя признать подделка...\n",
       "2  science  представить флагман в защитить корпус южнокоре...\n",
       "3    sport  с футболист спартак снять четырехматчевой диск...\n",
       "4    media  объединиться с интернетиздание объявить о свой..."
      ]
     },
     "execution_count": 59,
     "metadata": {},
     "output_type": "execute_result"
    }
   ],
   "source": [
    "from sklearn.pipeline import Pipeline\n",
    "\n",
    "tf_idf = TfidfVectorizer(max_df=0.7, min_df=5, stop_words=ru_stop_words)\n",
    "\n",
    "# линейный классификатор\n",
    "clf = SGDClassifier()\n",
    "\n",
    "parameters = {\n",
    "    'loss': ('log', 'hinge'),\n",
    "    'penalty': ['none', 'l1', 'l2', 'elasticnet'],\n",
    "    'alpha': [0.001, 0.0001, 0.00001, 0.000001]\n",
    "}\n",
    "\n",
    "gs_clf = GridSearchCV(clf, parameters, n_jobs=-1)\n",
    "\n",
    "pipeline = Pipeline([('tf-idf', tf_idf), ('gs_clf', gs_clf)])\n",
    "\n",
    "lines = [row.split('\\t') for row in train_lines]\n",
    "labels = [text[0] for text in lines]\n",
    "titles_texts = [' '.join(text[1].split(' ') + text[2].split(' ')) for text in lines] \n",
    "\n",
    "data_train = pd.DataFrame(list(zip(labels,  titles_texts)), columns =['labels', 'texts'])\n",
    "\n",
    "data_train.head()"
   ]
  },
  {
   "cell_type": "code",
   "execution_count": 60,
   "metadata": {},
   "outputs": [
    {
     "data": {
      "text/html": [
       "<div>\n",
       "<style scoped>\n",
       "    .dataframe tbody tr th:only-of-type {\n",
       "        vertical-align: middle;\n",
       "    }\n",
       "\n",
       "    .dataframe tbody tr th {\n",
       "        vertical-align: top;\n",
       "    }\n",
       "\n",
       "    .dataframe thead th {\n",
       "        text-align: right;\n",
       "    }\n",
       "</style>\n",
       "<table border=\"1\" class=\"dataframe\">\n",
       "  <thead>\n",
       "    <tr style=\"text-align: right;\">\n",
       "      <th></th>\n",
       "      <th>labels</th>\n",
       "      <th>texts</th>\n",
       "    </tr>\n",
       "  </thead>\n",
       "  <tbody>\n",
       "    <tr>\n",
       "      <td>0</td>\n",
       "      <td>culture</td>\n",
       "      <td>жительница ямал победить в первый песенный кон...</td>\n",
       "    </tr>\n",
       "    <tr>\n",
       "      <td>1</td>\n",
       "      <td>media</td>\n",
       "      <td>почти половина пользователь никогда не писать ...</td>\n",
       "    </tr>\n",
       "    <tr>\n",
       "      <td>2</td>\n",
       "      <td>media</td>\n",
       "      <td>билайн начать реклама роуминг под песенка трол...</td>\n",
       "    </tr>\n",
       "    <tr>\n",
       "      <td>3</td>\n",
       "      <td>business</td>\n",
       "      <td>потерять миллиард евро изз отмена южный поток ...</td>\n",
       "    </tr>\n",
       "    <tr>\n",
       "      <td>4</td>\n",
       "      <td>culture</td>\n",
       "      <td>вино дизель назвать форсаж достойный оскар акт...</td>\n",
       "    </tr>\n",
       "  </tbody>\n",
       "</table>\n",
       "</div>"
      ],
      "text/plain": [
       "     labels                                              texts\n",
       "0   culture  жительница ямал победить в первый песенный кон...\n",
       "1     media  почти половина пользователь никогда не писать ...\n",
       "2     media  билайн начать реклама роуминг под песенка трол...\n",
       "3  business  потерять миллиард евро изз отмена южный поток ...\n",
       "4   culture  вино дизель назвать форсаж достойный оскар акт..."
      ]
     },
     "execution_count": 60,
     "metadata": {},
     "output_type": "execute_result"
    }
   ],
   "source": [
    "lines = [row.split('\\t') for row in test_lines]\n",
    "labels = [text[0] for text in lines]\n",
    "titles_texts = [' '.join(text[1].split(' ') + text[2].split(' ')) for text in lines] \n",
    "\n",
    "data_test = pd.DataFrame(list(zip(labels,  titles_texts)), columns =['labels', 'texts'])\n",
    "\n",
    "data_test.head()"
   ]
  },
  {
   "cell_type": "code",
   "execution_count": 62,
   "metadata": {
    "scrolled": true
   },
   "outputs": [
    {
     "name": "stderr",
     "output_type": "stream",
     "text": [
      "/home/vchigur/anaconda3/lib/python3.7/site-packages/sklearn/model_selection/_split.py:1978: FutureWarning: The default value of cv will change from 3 to 5 in version 0.22. Specify it explicitly to silence this warning.\n",
      "  warnings.warn(CV_WARNING, FutureWarning)\n"
     ]
    },
    {
     "name": "stdout",
     "output_type": "stream",
     "text": [
      "0.841682589967921\n"
     ]
    }
   ],
   "source": [
    "from sklearn import metrics\n",
    "\n",
    "fitted = pipeline.fit(data_train['texts'], data_train['labels'])\n",
    "\n",
    "pred = pipeline.predict(data_test['texts'])\n",
    "\n",
    "score = metrics.f1_score(data_test['labels'], pred, average='macro')\n",
    "\n",
    "print(score)"
   ]
  },
  {
   "cell_type": "code",
   "execution_count": 64,
   "metadata": {},
   "outputs": [
    {
     "name": "stdout",
     "output_type": "stream",
     "text": [
      "{'alpha': 0.0001, 'loss': 'hinge', 'penalty': 'l2'}\n"
     ]
    }
   ],
   "source": [
    "best_params_svc = gs_clf.best_params_\n",
    "\n",
    "print(best_params_svc)"
   ]
  },
  {
   "cell_type": "code",
   "execution_count": 73,
   "metadata": {
    "scrolled": true
   },
   "outputs": [
    {
     "name": "stdout",
     "output_type": "stream",
     "text": [
      "0.642296143078799\n"
     ]
    },
    {
     "name": "stderr",
     "output_type": "stream",
     "text": [
      "/home/vchigur/anaconda3/lib/python3.7/site-packages/sklearn/metrics/classification.py:1437: UndefinedMetricWarning: F-score is ill-defined and being set to 0.0 in labels with no predicted samples.\n",
      "  'precision', 'predicted', average, warn_for)\n"
     ]
    }
   ],
   "source": [
    "b_clf = MultinomialNB()\n",
    "\n",
    "pipeline = Pipeline([('tf-idf', tf_idf), ('b_clf', b_clf)])\n",
    "\n",
    "fitted = pipeline.fit(data_train['texts'], data_train['labels'])\n",
    "\n",
    "pred = pipeline.predict(data_test['texts'])\n",
    "\n",
    "score = metrics.f1_score(data_test['labels'], pred, average='macro')\n",
    "\n",
    "print(score)"
   ]
  },
  {
   "cell_type": "code",
   "execution_count": null,
   "metadata": {},
   "outputs": [],
   "source": []
  }
 ],
 "metadata": {
  "kernelspec": {
   "display_name": "Python 3",
   "language": "python",
   "name": "python3"
  },
  "language_info": {
   "codemirror_mode": {
    "name": "ipython",
    "version": 3
   },
   "file_extension": ".py",
   "mimetype": "text/x-python",
   "name": "python",
   "nbconvert_exporter": "python",
   "pygments_lexer": "ipython3",
   "version": "3.7.4"
  }
 },
 "nbformat": 4,
 "nbformat_minor": 4
}
